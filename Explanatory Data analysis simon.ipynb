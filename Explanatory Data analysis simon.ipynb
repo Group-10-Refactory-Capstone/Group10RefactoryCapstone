{
 "cells": [
  {
   "cell_type": "code",
   "execution_count": 1,
   "metadata": {},
   "outputs": [],
   "source": [
    "import pandas as pd \n",
    "import numpy as np\n",
    "import seaborn as sns\n",
    "sns.set()\n",
    "import matplotlib.pyplot as plt "
   ]
  },
  {
   "cell_type": "code",
   "execution_count": 2,
   "metadata": {},
   "outputs": [
    {
     "data": {
      "text/html": [
       "<div>\n",
       "<style scoped>\n",
       "    .dataframe tbody tr th:only-of-type {\n",
       "        vertical-align: middle;\n",
       "    }\n",
       "\n",
       "    .dataframe tbody tr th {\n",
       "        vertical-align: top;\n",
       "    }\n",
       "\n",
       "    .dataframe thead th {\n",
       "        text-align: right;\n",
       "    }\n",
       "</style>\n",
       "<table border=\"1\" class=\"dataframe\">\n",
       "  <thead>\n",
       "    <tr style=\"text-align: right;\">\n",
       "      <th></th>\n",
       "      <th>Unnamed: 0.1</th>\n",
       "      <th>Unnamed: 0</th>\n",
       "      <th>customerid</th>\n",
       "      <th>bank_name_clients</th>\n",
       "      <th>employment_status_clients</th>\n",
       "      <th>level_of_education_clients</th>\n",
       "      <th>No_of_prevloans</th>\n",
       "      <th>Total_amount_borrowed</th>\n",
       "      <th>Total_amount_due</th>\n",
       "      <th>Average_termdays</th>\n",
       "      <th>...</th>\n",
       "      <th>totaldue</th>\n",
       "      <th>termdays</th>\n",
       "      <th>good_bad_flag</th>\n",
       "      <th>age</th>\n",
       "      <th>bank_account_type_Current</th>\n",
       "      <th>bank_account_type_Other</th>\n",
       "      <th>bank_account_type_Savings</th>\n",
       "      <th>loan_close_time</th>\n",
       "      <th>loan_approval_time</th>\n",
       "      <th>loan_firstPayment_time</th>\n",
       "    </tr>\n",
       "  </thead>\n",
       "  <tbody>\n",
       "    <tr>\n",
       "      <th>0</th>\n",
       "      <td>0</td>\n",
       "      <td>0</td>\n",
       "      <td>8a858e135cb22031015cbafc76964ebd</td>\n",
       "      <td>GT Bank</td>\n",
       "      <td>6</td>\n",
       "      <td>4</td>\n",
       "      <td>1.0</td>\n",
       "      <td>10000.0</td>\n",
       "      <td>11500.0</td>\n",
       "      <td>15.0</td>\n",
       "      <td>...</td>\n",
       "      <td>13000.0</td>\n",
       "      <td>30.0</td>\n",
       "      <td>Good</td>\n",
       "      <td>50.0</td>\n",
       "      <td>False</td>\n",
       "      <td>False</td>\n",
       "      <td>True</td>\n",
       "      <td>15.0</td>\n",
       "      <td>1.018611</td>\n",
       "      <td>15.0</td>\n",
       "    </tr>\n",
       "    <tr>\n",
       "      <th>1</th>\n",
       "      <td>1</td>\n",
       "      <td>1</td>\n",
       "      <td>8a858e275c7ea5ec015c82482d7c3996</td>\n",
       "      <td>Sterling Bank</td>\n",
       "      <td>1</td>\n",
       "      <td>4</td>\n",
       "      <td>1.0</td>\n",
       "      <td>10000.0</td>\n",
       "      <td>13000.0</td>\n",
       "      <td>30.0</td>\n",
       "      <td>...</td>\n",
       "      <td>13000.0</td>\n",
       "      <td>30.0</td>\n",
       "      <td>Bad</td>\n",
       "      <td>38.0</td>\n",
       "      <td>False</td>\n",
       "      <td>False</td>\n",
       "      <td>True</td>\n",
       "      <td>32.0</td>\n",
       "      <td>1.018889</td>\n",
       "      <td>32.0</td>\n",
       "    </tr>\n",
       "    <tr>\n",
       "      <th>2</th>\n",
       "      <td>2</td>\n",
       "      <td>2</td>\n",
       "      <td>8a858e5b5bd99460015bdc95cd485634</td>\n",
       "      <td>Fidelity Bank</td>\n",
       "      <td>6</td>\n",
       "      <td>4</td>\n",
       "      <td>3.0</td>\n",
       "      <td>30000.0</td>\n",
       "      <td>36000.0</td>\n",
       "      <td>20.0</td>\n",
       "      <td>...</td>\n",
       "      <td>13000.0</td>\n",
       "      <td>30.0</td>\n",
       "      <td>Good</td>\n",
       "      <td>37.0</td>\n",
       "      <td>False</td>\n",
       "      <td>False</td>\n",
       "      <td>True</td>\n",
       "      <td>32.0</td>\n",
       "      <td>1.001944</td>\n",
       "      <td>32.0</td>\n",
       "    </tr>\n",
       "    <tr>\n",
       "      <th>3</th>\n",
       "      <td>3</td>\n",
       "      <td>3</td>\n",
       "      <td>8a858efd5ca70688015cabd1f1e94b55</td>\n",
       "      <td>GT Bank</td>\n",
       "      <td>1</td>\n",
       "      <td>4</td>\n",
       "      <td>1.0</td>\n",
       "      <td>10000.0</td>\n",
       "      <td>11500.0</td>\n",
       "      <td>15.0</td>\n",
       "      <td>...</td>\n",
       "      <td>11500.0</td>\n",
       "      <td>15.0</td>\n",
       "      <td>Good</td>\n",
       "      <td>32.0</td>\n",
       "      <td>False</td>\n",
       "      <td>False</td>\n",
       "      <td>True</td>\n",
       "      <td>33.0</td>\n",
       "      <td>1.018889</td>\n",
       "      <td>33.0</td>\n",
       "    </tr>\n",
       "    <tr>\n",
       "      <th>4</th>\n",
       "      <td>4</td>\n",
       "      <td>4</td>\n",
       "      <td>8a858e785acd3412015acd48f4920d04</td>\n",
       "      <td>GT Bank</td>\n",
       "      <td>1</td>\n",
       "      <td>4</td>\n",
       "      <td>NaN</td>\n",
       "      <td>NaN</td>\n",
       "      <td>NaN</td>\n",
       "      <td>NaN</td>\n",
       "      <td>...</td>\n",
       "      <td>NaN</td>\n",
       "      <td>NaN</td>\n",
       "      <td>NaN</td>\n",
       "      <td>41.0</td>\n",
       "      <td>False</td>\n",
       "      <td>False</td>\n",
       "      <td>True</td>\n",
       "      <td>NaN</td>\n",
       "      <td>NaN</td>\n",
       "      <td>NaN</td>\n",
       "    </tr>\n",
       "  </tbody>\n",
       "</table>\n",
       "<p>5 rows × 30 columns</p>\n",
       "</div>"
      ],
      "text/plain": [
       "   Unnamed: 0.1  Unnamed: 0                        customerid  \\\n",
       "0             0           0  8a858e135cb22031015cbafc76964ebd   \n",
       "1             1           1  8a858e275c7ea5ec015c82482d7c3996   \n",
       "2             2           2  8a858e5b5bd99460015bdc95cd485634   \n",
       "3             3           3  8a858efd5ca70688015cabd1f1e94b55   \n",
       "4             4           4  8a858e785acd3412015acd48f4920d04   \n",
       "\n",
       "  bank_name_clients  employment_status_clients  level_of_education_clients  \\\n",
       "0           GT Bank                          6                           4   \n",
       "1     Sterling Bank                          1                           4   \n",
       "2     Fidelity Bank                          6                           4   \n",
       "3           GT Bank                          1                           4   \n",
       "4           GT Bank                          1                           4   \n",
       "\n",
       "   No_of_prevloans  Total_amount_borrowed  Total_amount_due  Average_termdays  \\\n",
       "0              1.0                10000.0           11500.0              15.0   \n",
       "1              1.0                10000.0           13000.0              30.0   \n",
       "2              3.0                30000.0           36000.0              20.0   \n",
       "3              1.0                10000.0           11500.0              15.0   \n",
       "4              NaN                    NaN               NaN               NaN   \n",
       "\n",
       "   ... totaldue termdays good_bad_flag   age bank_account_type_Current  \\\n",
       "0  ...  13000.0     30.0          Good  50.0                     False   \n",
       "1  ...  13000.0     30.0           Bad  38.0                     False   \n",
       "2  ...  13000.0     30.0          Good  37.0                     False   \n",
       "3  ...  11500.0     15.0          Good  32.0                     False   \n",
       "4  ...      NaN      NaN           NaN  41.0                     False   \n",
       "\n",
       "   bank_account_type_Other  bank_account_type_Savings loan_close_time  \\\n",
       "0                    False                       True            15.0   \n",
       "1                    False                       True            32.0   \n",
       "2                    False                       True            32.0   \n",
       "3                    False                       True            33.0   \n",
       "4                    False                       True             NaN   \n",
       "\n",
       "  loan_approval_time  loan_firstPayment_time  \n",
       "0           1.018611                    15.0  \n",
       "1           1.018889                    32.0  \n",
       "2           1.001944                    32.0  \n",
       "3           1.018889                    33.0  \n",
       "4                NaN                     NaN  \n",
       "\n",
       "[5 rows x 30 columns]"
      ]
     },
     "execution_count": 2,
     "metadata": {},
     "output_type": "execute_result"
    }
   ],
   "source": [
    "data =pd.read_csv(r'Datasets\\cleaned_dataset1_encoded.csv')\n",
    "data.head()"
   ]
  },
  {
   "cell_type": "markdown",
   "metadata": {},
   "source": [
    "## Qn what are the different attributes?"
   ]
  },
  {
   "cell_type": "code",
   "execution_count": 12,
   "metadata": {},
   "outputs": [
    {
     "data": {
      "text/plain": [
       "Index(['Unnamed: 0.1', 'Unnamed: 0', 'customerid', 'bank_name_clients',\n",
       "       'employment_status_clients', 'level_of_education_clients',\n",
       "       'No_of_prevloans', 'Total_amount_borrowed', 'Total_amount_due',\n",
       "       'Average_termdays', 'last_approveddate', 'last_creationdate',\n",
       "       'last_closeddate', 'last_firstduedate', 'last_firstrepaiddate',\n",
       "       'systemloanid', 'loannumber', 'approveddate', 'creationdate',\n",
       "       'loanamount', 'totaldue', 'termdays', 'good_bad_flag', 'age',\n",
       "       'bank_account_type_Current', 'bank_account_type_Other',\n",
       "       'bank_account_type_Savings', 'loan_close_time', 'loan_approval_time',\n",
       "       'loan_firstPayment_time'],\n",
       "      dtype='object')"
      ]
     },
     "execution_count": 12,
     "metadata": {},
     "output_type": "execute_result"
    }
   ],
   "source": [
    "data.columns"
   ]
  },
  {
   "cell_type": "code",
   "execution_count": 3,
   "metadata": {},
   "outputs": [
    {
     "data": {
      "text/plain": [
       "Index(['customerid', 'bank_name_clients', 'employment_status_clients',\n",
       "       'level_of_education_clients', 'No_of_prevloans',\n",
       "       'Total_amount_borrowed', 'Total_amount_due', 'Average_termdays',\n",
       "       'last_approveddate', 'last_creationdate', 'last_closeddate',\n",
       "       'last_firstduedate', 'last_firstrepaiddate', 'systemloanid',\n",
       "       'loannumber', 'approveddate', 'creationdate', 'loanamount', 'totaldue',\n",
       "       'termdays', 'good_bad_flag', 'age', 'bank_account_type_Current',\n",
       "       'bank_account_type_Other', 'bank_account_type_Savings',\n",
       "       'loan_close_time', 'loan_approval_time', 'loan_firstPayment_time'],\n",
       "      dtype='object')"
      ]
     },
     "execution_count": 3,
     "metadata": {},
     "output_type": "execute_result"
    }
   ],
   "source": [
    "# dropping unnamed columns\n",
    "data=data.drop(['Unnamed: 0.1','Unnamed: 0'],axis=1)\n",
    "data.columns"
   ]
  },
  {
   "cell_type": "markdown",
   "metadata": {},
   "source": [
    "## Qn How are customers distibuted on the good_bad_flag?"
   ]
  },
  {
   "cell_type": "code",
   "execution_count": 4,
   "metadata": {},
   "outputs": [
    {
     "data": {
      "text/plain": [
       "<Axes: xlabel='good_bad_flag', ylabel='count'>"
      ]
     },
     "execution_count": 4,
     "metadata": {},
     "output_type": "execute_result"
    },
    {
     "data": {
      "image/png": "[encoded data removed]",
      "text/plain": [
       "<Figure size 640x480 with 1 Axes>"
      ]
     },
     "metadata": {},
     "output_type": "display_data"
    }
   ],
   "source": [
    "sns.countplot(x='good_bad_flag',data=data)"
   ]
  },
  {
   "cell_type": "code",
   "execution_count": 6,
   "metadata": {},
   "outputs": [
    {
     "data": {
      "text/html": [
       "<div>\n",
       "<style scoped>\n",
       "    .dataframe tbody tr th:only-of-type {\n",
       "        vertical-align: middle;\n",
       "    }\n",
       "\n",
       "    .dataframe tbody tr th {\n",
       "        vertical-align: top;\n",
       "    }\n",
       "\n",
       "    .dataframe thead th {\n",
       "        text-align: right;\n",
       "    }\n",
       "</style>\n",
       "<table border=\"1\" class=\"dataframe\">\n",
       "  <thead>\n",
       "    <tr style=\"text-align: right;\">\n",
       "      <th></th>\n",
       "      <th>customerid</th>\n",
       "    </tr>\n",
       "    <tr>\n",
       "      <th>good_bad_flag</th>\n",
       "      <th></th>\n",
       "    </tr>\n",
       "  </thead>\n",
       "  <tbody>\n",
       "    <tr>\n",
       "      <th>Bad</th>\n",
       "      <td>713</td>\n",
       "    </tr>\n",
       "    <tr>\n",
       "      <th>Good</th>\n",
       "      <td>2556</td>\n",
       "    </tr>\n",
       "  </tbody>\n",
       "</table>\n",
       "</div>"
      ],
      "text/plain": [
       "               customerid\n",
       "good_bad_flag            \n",
       "Bad                   713\n",
       "Good                 2556"
      ]
     },
     "execution_count": 6,
     "metadata": {},
     "output_type": "execute_result"
    }
   ],
   "source": [
    "data.groupby('good_bad_flag').agg({'customerid':'nunique'})"
   ]
  },
  {
   "cell_type": "code",
   "execution_count": null,
   "metadata": {},
   "outputs": [],
   "source": []
  }
 ],
 "metadata": {
  "kernelspec": {
   "display_name": "Python 3",
   "language": "python",
   "name": "python3"
  },
  "language_info": {
   "codemirror_mode": {
    "name": "ipython",
    "version": 3
   },
   "file_extension": ".py",
   "mimetype": "text/x-python",
   "name": "python",
   "nbconvert_exporter": "python",
   "pygments_lexer": "ipython3",
   "version": "3.11.3"
  }
 },
 "nbformat": 4,
 "nbformat_minor": 2
}
