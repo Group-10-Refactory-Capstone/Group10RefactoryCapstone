{
 "cells": [
  {
   "cell_type": "code",
   "execution_count": 2,
   "metadata": {},
   "outputs": [],
   "source": [
    "import pandas as pd\n",
    "\n",
    "train = pd.read_csv(\"Datasets/filtered_data_sk.csv\")\n",
    "test = pd.read_csv(\"Datasets/final_test_data.csv\")"
   ]
  },
  {
   "cell_type": "code",
   "execution_count": 3,
   "metadata": {},
   "outputs": [
    {
     "data": {
      "text/html": [
       "<div>\n",
       "<style scoped>\n",
       "    .dataframe tbody tr th:only-of-type {\n",
       "        vertical-align: middle;\n",
       "    }\n",
       "\n",
       "    .dataframe tbody tr th {\n",
       "        vertical-align: top;\n",
       "    }\n",
       "\n",
       "    .dataframe thead th {\n",
       "        text-align: right;\n",
       "    }\n",
       "</style>\n",
       "<table border=\"1\" class=\"dataframe\">\n",
       "  <thead>\n",
       "    <tr style=\"text-align: right;\">\n",
       "      <th></th>\n",
       "      <th>No_of_prevloans</th>\n",
       "      <th>Total_amount_due</th>\n",
       "      <th>Average_termdays</th>\n",
       "      <th>loannumber</th>\n",
       "      <th>good_bad_flag</th>\n",
       "      <th>age</th>\n",
       "      <th>bank_account_type_Current</th>\n",
       "      <th>loan_approval_time</th>\n",
       "      <th>loan_firstPayment_time</th>\n",
       "    </tr>\n",
       "  </thead>\n",
       "  <tbody>\n",
       "    <tr>\n",
       "      <th>0</th>\n",
       "      <td>1.0</td>\n",
       "      <td>11500.0</td>\n",
       "      <td>15.0</td>\n",
       "      <td>2.0</td>\n",
       "      <td>1</td>\n",
       "      <td>50.0</td>\n",
       "      <td>0</td>\n",
       "      <td>1.018611</td>\n",
       "      <td>15.0</td>\n",
       "    </tr>\n",
       "    <tr>\n",
       "      <th>1</th>\n",
       "      <td>1.0</td>\n",
       "      <td>13000.0</td>\n",
       "      <td>30.0</td>\n",
       "      <td>2.0</td>\n",
       "      <td>0</td>\n",
       "      <td>38.0</td>\n",
       "      <td>0</td>\n",
       "      <td>1.018889</td>\n",
       "      <td>32.0</td>\n",
       "    </tr>\n",
       "    <tr>\n",
       "      <th>2</th>\n",
       "      <td>3.0</td>\n",
       "      <td>36000.0</td>\n",
       "      <td>20.0</td>\n",
       "      <td>4.0</td>\n",
       "      <td>1</td>\n",
       "      <td>37.0</td>\n",
       "      <td>0</td>\n",
       "      <td>1.001944</td>\n",
       "      <td>32.0</td>\n",
       "    </tr>\n",
       "    <tr>\n",
       "      <th>3</th>\n",
       "      <td>1.0</td>\n",
       "      <td>11500.0</td>\n",
       "      <td>15.0</td>\n",
       "      <td>2.0</td>\n",
       "      <td>1</td>\n",
       "      <td>32.0</td>\n",
       "      <td>0</td>\n",
       "      <td>1.018889</td>\n",
       "      <td>33.0</td>\n",
       "    </tr>\n",
       "    <tr>\n",
       "      <th>4</th>\n",
       "      <td>5.0</td>\n",
       "      <td>88000.0</td>\n",
       "      <td>30.0</td>\n",
       "      <td>6.0</td>\n",
       "      <td>1</td>\n",
       "      <td>33.0</td>\n",
       "      <td>0</td>\n",
       "      <td>1.018889</td>\n",
       "      <td>24.0</td>\n",
       "    </tr>\n",
       "  </tbody>\n",
       "</table>\n",
       "</div>"
      ],
      "text/plain": [
       "   No_of_prevloans  Total_amount_due  Average_termdays  loannumber  \\\n",
       "0              1.0           11500.0              15.0         2.0   \n",
       "1              1.0           13000.0              30.0         2.0   \n",
       "2              3.0           36000.0              20.0         4.0   \n",
       "3              1.0           11500.0              15.0         2.0   \n",
       "4              5.0           88000.0              30.0         6.0   \n",
       "\n",
       "   good_bad_flag   age  bank_account_type_Current  loan_approval_time  \\\n",
       "0              1  50.0                          0            1.018611   \n",
       "1              0  38.0                          0            1.018889   \n",
       "2              1  37.0                          0            1.001944   \n",
       "3              1  32.0                          0            1.018889   \n",
       "4              1  33.0                          0            1.018889   \n",
       "\n",
       "   loan_firstPayment_time  \n",
       "0                    15.0  \n",
       "1                    32.0  \n",
       "2                    32.0  \n",
       "3                    33.0  \n",
       "4                    24.0  "
      ]
     },
     "execution_count": 3,
     "metadata": {},
     "output_type": "execute_result"
    }
   ],
   "source": [
    "train.head()"
   ]
  },
  {
   "cell_type": "code",
   "execution_count": 4,
   "metadata": {},
   "outputs": [],
   "source": [
    "test['bank_account_type_Current'] = test['bank_account_type_Current'].astype(int)"
   ]
  },
  {
   "cell_type": "code",
   "execution_count": 5,
   "metadata": {},
   "outputs": [
    {
     "name": "stdout",
     "output_type": "stream",
     "text": [
      "<class 'pandas.core.frame.DataFrame'>\n",
      "RangeIndex: 3264 entries, 0 to 3263\n",
      "Data columns (total 9 columns):\n",
      " #   Column                     Non-Null Count  Dtype  \n",
      "---  ------                     --------------  -----  \n",
      " 0   No_of_prevloans            3264 non-null   float64\n",
      " 1   Total_amount_due           3264 non-null   float64\n",
      " 2   Average_termdays           3264 non-null   float64\n",
      " 3   loannumber                 3264 non-null   float64\n",
      " 4   good_bad_flag              3264 non-null   int64  \n",
      " 5   age                        3264 non-null   float64\n",
      " 6   bank_account_type_Current  3264 non-null   int64  \n",
      " 7   loan_approval_time         3264 non-null   float64\n",
      " 8   loan_firstPayment_time     3264 non-null   float64\n",
      "dtypes: float64(7), int64(2)\n",
      "memory usage: 229.6 KB\n"
     ]
    }
   ],
   "source": [
    "train.info()"
   ]
  },
  {
   "cell_type": "code",
   "execution_count": 6,
   "metadata": {},
   "outputs": [
    {
     "name": "stdout",
     "output_type": "stream",
     "text": [
      "<class 'pandas.core.frame.DataFrame'>\n",
      "RangeIndex: 384 entries, 0 to 383\n",
      "Data columns (total 8 columns):\n",
      " #   Column                     Non-Null Count  Dtype  \n",
      "---  ------                     --------------  -----  \n",
      " 0   No_of_prevloans            384 non-null    float64\n",
      " 1   Total_amount_due           384 non-null    float64\n",
      " 2   Average_termdays           384 non-null    float64\n",
      " 3   loannumber                 384 non-null    float64\n",
      " 4   age                        384 non-null    float64\n",
      " 5   bank_account_type_Current  384 non-null    int32  \n",
      " 6   loan_approval_time         384 non-null    float64\n",
      " 7   loan_firstPayment_time     384 non-null    float64\n",
      "dtypes: float64(7), int32(1)\n",
      "memory usage: 22.6 KB\n"
     ]
    }
   ],
   "source": [
    "test.info()"
   ]
  },
  {
   "cell_type": "markdown",
   "metadata": {},
   "source": [
    "Both datasets do not have any null values since both were already cleaned and only the most relevant features are included in both since feature selection was already done  as in the \"training by simon\" notebook"
   ]
  },
  {
   "cell_type": "code",
   "execution_count": 7,
   "metadata": {},
   "outputs": [],
   "source": [
    "# we shall be evaluating the models - LogisticRegression, KNeighborsClassifier, DecisionTreeClassifier, SVC, GaussianNB, RandomForestClassifier and GradientBoostingClassifier\n",
    "\n",
    "from sklearn.model_selection import train_test_split, cross_val_score\n",
    "from sklearn.preprocessing import StandardScaler\n",
    "from sklearn.linear_model import LogisticRegression\n",
    "from sklearn.neighbors import KNeighborsClassifier\n",
    "from sklearn.tree import DecisionTreeClassifier\n",
    "from sklearn.svm import SVC\n",
    "from sklearn.naive_bayes import GaussianNB\n",
    "from sklearn.ensemble import RandomForestClassifier, GradientBoostingClassifier\n"
   ]
  },
  {
   "cell_type": "code",
   "execution_count": 8,
   "metadata": {},
   "outputs": [],
   "source": [
    "x_train = train.drop(columns=['good_bad_flag'])\n",
    "y_train = train['good_bad_flag']"
   ]
  },
  {
   "cell_type": "code",
   "execution_count": 9,
   "metadata": {},
   "outputs": [
    {
     "data": {
      "text/html": [
       "<div>\n",
       "<style scoped>\n",
       "    .dataframe tbody tr th:only-of-type {\n",
       "        vertical-align: middle;\n",
       "    }\n",
       "\n",
       "    .dataframe tbody tr th {\n",
       "        vertical-align: top;\n",
       "    }\n",
       "\n",
       "    .dataframe thead th {\n",
       "        text-align: right;\n",
       "    }\n",
       "</style>\n",
       "<table border=\"1\" class=\"dataframe\">\n",
       "  <thead>\n",
       "    <tr style=\"text-align: right;\">\n",
       "      <th></th>\n",
       "      <th>No_of_prevloans</th>\n",
       "      <th>Total_amount_due</th>\n",
       "      <th>Average_termdays</th>\n",
       "      <th>loannumber</th>\n",
       "      <th>age</th>\n",
       "      <th>bank_account_type_Current</th>\n",
       "      <th>loan_approval_time</th>\n",
       "      <th>loan_firstPayment_time</th>\n",
       "    </tr>\n",
       "  </thead>\n",
       "  <tbody>\n",
       "    <tr>\n",
       "      <th>0</th>\n",
       "      <td>1.0</td>\n",
       "      <td>11500.0</td>\n",
       "      <td>15.0</td>\n",
       "      <td>2.0</td>\n",
       "      <td>50.0</td>\n",
       "      <td>0</td>\n",
       "      <td>1.018611</td>\n",
       "      <td>15.0</td>\n",
       "    </tr>\n",
       "    <tr>\n",
       "      <th>1</th>\n",
       "      <td>1.0</td>\n",
       "      <td>13000.0</td>\n",
       "      <td>30.0</td>\n",
       "      <td>2.0</td>\n",
       "      <td>38.0</td>\n",
       "      <td>0</td>\n",
       "      <td>1.018889</td>\n",
       "      <td>32.0</td>\n",
       "    </tr>\n",
       "    <tr>\n",
       "      <th>2</th>\n",
       "      <td>3.0</td>\n",
       "      <td>36000.0</td>\n",
       "      <td>20.0</td>\n",
       "      <td>4.0</td>\n",
       "      <td>37.0</td>\n",
       "      <td>0</td>\n",
       "      <td>1.001944</td>\n",
       "      <td>32.0</td>\n",
       "    </tr>\n",
       "    <tr>\n",
       "      <th>3</th>\n",
       "      <td>1.0</td>\n",
       "      <td>11500.0</td>\n",
       "      <td>15.0</td>\n",
       "      <td>2.0</td>\n",
       "      <td>32.0</td>\n",
       "      <td>0</td>\n",
       "      <td>1.018889</td>\n",
       "      <td>33.0</td>\n",
       "    </tr>\n",
       "    <tr>\n",
       "      <th>4</th>\n",
       "      <td>5.0</td>\n",
       "      <td>88000.0</td>\n",
       "      <td>30.0</td>\n",
       "      <td>6.0</td>\n",
       "      <td>33.0</td>\n",
       "      <td>0</td>\n",
       "      <td>1.018889</td>\n",
       "      <td>24.0</td>\n",
       "    </tr>\n",
       "  </tbody>\n",
       "</table>\n",
       "</div>"
      ],
      "text/plain": [
       "   No_of_prevloans  Total_amount_due  Average_termdays  loannumber   age  \\\n",
       "0              1.0           11500.0              15.0         2.0  50.0   \n",
       "1              1.0           13000.0              30.0         2.0  38.0   \n",
       "2              3.0           36000.0              20.0         4.0  37.0   \n",
       "3              1.0           11500.0              15.0         2.0  32.0   \n",
       "4              5.0           88000.0              30.0         6.0  33.0   \n",
       "\n",
       "   bank_account_type_Current  loan_approval_time  loan_firstPayment_time  \n",
       "0                          0            1.018611                    15.0  \n",
       "1                          0            1.018889                    32.0  \n",
       "2                          0            1.001944                    32.0  \n",
       "3                          0            1.018889                    33.0  \n",
       "4                          0            1.018889                    24.0  "
      ]
     },
     "execution_count": 9,
     "metadata": {},
     "output_type": "execute_result"
    }
   ],
   "source": [
    "x_train.head()"
   ]
  },
  {
   "cell_type": "code",
   "execution_count": 10,
   "metadata": {},
   "outputs": [
    {
     "data": {
      "text/plain": [
       "0       1\n",
       "1       0\n",
       "2       1\n",
       "3       1\n",
       "4       1\n",
       "       ..\n",
       "3259    0\n",
       "3260    1\n",
       "3261    1\n",
       "3262    1\n",
       "3263    1\n",
       "Name: good_bad_flag, Length: 3264, dtype: int64"
      ]
     },
     "execution_count": 10,
     "metadata": {},
     "output_type": "execute_result"
    }
   ],
   "source": [
    "y_train"
   ]
  },
  {
   "cell_type": "code",
   "execution_count": 11,
   "metadata": {},
   "outputs": [],
   "source": [
    "x_test = test"
   ]
  },
  {
   "cell_type": "code",
   "execution_count": 12,
   "metadata": {},
   "outputs": [],
   "source": [
    "# Standardize the features\n",
    "scaler = StandardScaler()\n",
    "x_train = scaler.fit_transform(x_train)\n",
    "x_test = scaler.transform(x_test)"
   ]
  },
  {
   "cell_type": "code",
   "execution_count": 13,
   "metadata": {},
   "outputs": [],
   "source": [
    "# Classification Algorithms\n",
    "models = [] # list to contain the models\n",
    "models.append(('LogisticR', LogisticRegression()))\n",
    "models.append(('KNN', KNeighborsClassifier()))\n",
    "models.append(('CART', DecisionTreeClassifier()))\n",
    "models.append(('SVM', SVC()))\n",
    "models.append(('NB', GaussianNB()))\n",
    "models.append(('RF', RandomForestClassifier()))\n",
    "models.append(('GB', GradientBoostingClassifier()))"
   ]
  },
  {
   "cell_type": "code",
   "execution_count": 14,
   "metadata": {},
   "outputs": [
    {
     "name": "stdout",
     "output_type": "stream",
     "text": [
      "LogisticR: 0.7861512917206056 (0.004730069565549709)\n",
      "KNN: 0.7555064632933717 (0.017002822872004924)\n",
      "CART: 0.6798324609294385 (0.020555273982730715)\n",
      "SVM: 0.7846203635954299 (0.005464804479577677)\n",
      "NB: 0.7362507270032458 (0.06094162290373558)\n",
      "RF: 0.7647061030749892 (0.011514489603893072)\n",
      "GB: 0.7815575692763738 (0.012002111007974296)\n"
     ]
    }
   ],
   "source": [
    "# evaluation of each model\n",
    "results = []\n",
    "names = []\n",
    "for name, model in models:\n",
    "    cv_results = cross_val_score(model, x_train, y_train, cv=10, scoring='accuracy')\n",
    "    results.append(cv_results)\n",
    "    names.append(name)\n",
    "    print(f\"{name}: {cv_results.mean()} ({cv_results.std()})\")\n"
   ]
  },
  {
   "cell_type": "markdown",
   "metadata": {},
   "source": [
    "Logistic Regression performs best with the least standard deviation and highest accuracy score."
   ]
  },
  {
   "cell_type": "code",
   "execution_count": 15,
   "metadata": {},
   "outputs": [],
   "source": [
    "# prediction using Logistic Regression\n",
    "\n",
    "predictions = {}\n",
    "for name, model in models:\n",
    "    if name == 'LogisticR':\n",
    "      model.fit(x_train, y_train)\n",
    "      y_pred = model.predict(x_test)\n",
    "      predictions['good_bad_flag'] = y_pred"
   ]
  },
  {
   "cell_type": "code",
   "execution_count": 16,
   "metadata": {},
   "outputs": [
    {
     "data": {
      "text/html": [
       "<div>\n",
       "<style scoped>\n",
       "    .dataframe tbody tr th:only-of-type {\n",
       "        vertical-align: middle;\n",
       "    }\n",
       "\n",
       "    .dataframe tbody tr th {\n",
       "        vertical-align: top;\n",
       "    }\n",
       "\n",
       "    .dataframe thead th {\n",
       "        text-align: right;\n",
       "    }\n",
       "</style>\n",
       "<table border=\"1\" class=\"dataframe\">\n",
       "  <thead>\n",
       "    <tr style=\"text-align: right;\">\n",
       "      <th></th>\n",
       "      <th>good_bad_flag</th>\n",
       "    </tr>\n",
       "  </thead>\n",
       "  <tbody>\n",
       "    <tr>\n",
       "      <th>0</th>\n",
       "      <td>1</td>\n",
       "    </tr>\n",
       "    <tr>\n",
       "      <th>1</th>\n",
       "      <td>1</td>\n",
       "    </tr>\n",
       "    <tr>\n",
       "      <th>2</th>\n",
       "      <td>1</td>\n",
       "    </tr>\n",
       "    <tr>\n",
       "      <th>3</th>\n",
       "      <td>1</td>\n",
       "    </tr>\n",
       "    <tr>\n",
       "      <th>4</th>\n",
       "      <td>1</td>\n",
       "    </tr>\n",
       "  </tbody>\n",
       "</table>\n",
       "</div>"
      ],
      "text/plain": [
       "   good_bad_flag\n",
       "0              1\n",
       "1              1\n",
       "2              1\n",
       "3              1\n",
       "4              1"
      ]
     },
     "execution_count": 16,
     "metadata": {},
     "output_type": "execute_result"
    }
   ],
   "source": [
    "# Save predictions\n",
    "predictions_df = pd.DataFrame(predictions)\n",
    "predictions_df.head()"
   ]
  },
  {
   "cell_type": "code",
   "execution_count": 17,
   "metadata": {},
   "outputs": [
    {
     "data": {
      "text/html": [
       "<div>\n",
       "<style scoped>\n",
       "    .dataframe tbody tr th:only-of-type {\n",
       "        vertical-align: middle;\n",
       "    }\n",
       "\n",
       "    .dataframe tbody tr th {\n",
       "        vertical-align: top;\n",
       "    }\n",
       "\n",
       "    .dataframe thead th {\n",
       "        text-align: right;\n",
       "    }\n",
       "</style>\n",
       "<table border=\"1\" class=\"dataframe\">\n",
       "  <thead>\n",
       "    <tr style=\"text-align: right;\">\n",
       "      <th></th>\n",
       "      <th>customerid</th>\n",
       "      <th>No_of_prevloans</th>\n",
       "      <th>Total_amount_due</th>\n",
       "      <th>Average_termdays</th>\n",
       "      <th>loannumber</th>\n",
       "      <th>age</th>\n",
       "      <th>bank_account_type_Current</th>\n",
       "      <th>loan_approval_time</th>\n",
       "      <th>loan_firstPayment_time</th>\n",
       "    </tr>\n",
       "  </thead>\n",
       "  <tbody>\n",
       "    <tr>\n",
       "      <th>0</th>\n",
       "      <td>8a858f305c8dd672015c93b1db645db4</td>\n",
       "      <td>1.0</td>\n",
       "      <td>13000.0</td>\n",
       "      <td>30.000000</td>\n",
       "      <td>2.0</td>\n",
       "      <td>47.0</td>\n",
       "      <td>False</td>\n",
       "      <td>1.018611</td>\n",
       "      <td>31.0</td>\n",
       "    </tr>\n",
       "    <tr>\n",
       "      <th>1</th>\n",
       "      <td>8a858fde56eb02280156eb6dafc128ac</td>\n",
       "      <td>13.0</td>\n",
       "      <td>412800.0</td>\n",
       "      <td>23.076923</td>\n",
       "      <td>14.0</td>\n",
       "      <td>42.0</td>\n",
       "      <td>False</td>\n",
       "      <td>1.001944</td>\n",
       "      <td>29.0</td>\n",
       "    </tr>\n",
       "    <tr>\n",
       "      <th>2</th>\n",
       "      <td>8a858e695775665c015779a1a5cc1192</td>\n",
       "      <td>7.0</td>\n",
       "      <td>89500.0</td>\n",
       "      <td>27.857143</td>\n",
       "      <td>8.0</td>\n",
       "      <td>35.0</td>\n",
       "      <td>False</td>\n",
       "      <td>1.001944</td>\n",
       "      <td>32.0</td>\n",
       "    </tr>\n",
       "    <tr>\n",
       "      <th>3</th>\n",
       "      <td>8a858fcf5b39c3ba015b3d9f215c3922</td>\n",
       "      <td>2.0</td>\n",
       "      <td>26000.0</td>\n",
       "      <td>30.000000</td>\n",
       "      <td>3.0</td>\n",
       "      <td>45.0</td>\n",
       "      <td>False</td>\n",
       "      <td>1.001667</td>\n",
       "      <td>39.0</td>\n",
       "    </tr>\n",
       "    <tr>\n",
       "      <th>4</th>\n",
       "      <td>8a858edc5ceea2e6015ceea77c5c0300</td>\n",
       "      <td>1.0</td>\n",
       "      <td>13000.0</td>\n",
       "      <td>30.000000</td>\n",
       "      <td>2.0</td>\n",
       "      <td>36.0</td>\n",
       "      <td>False</td>\n",
       "      <td>1.018889</td>\n",
       "      <td>13.0</td>\n",
       "    </tr>\n",
       "  </tbody>\n",
       "</table>\n",
       "</div>"
      ],
      "text/plain": [
       "                         customerid  No_of_prevloans  Total_amount_due  \\\n",
       "0  8a858f305c8dd672015c93b1db645db4              1.0           13000.0   \n",
       "1  8a858fde56eb02280156eb6dafc128ac             13.0          412800.0   \n",
       "2  8a858e695775665c015779a1a5cc1192              7.0           89500.0   \n",
       "3  8a858fcf5b39c3ba015b3d9f215c3922              2.0           26000.0   \n",
       "4  8a858edc5ceea2e6015ceea77c5c0300              1.0           13000.0   \n",
       "\n",
       "   Average_termdays  loannumber   age  bank_account_type_Current  \\\n",
       "0         30.000000         2.0  47.0                      False   \n",
       "1         23.076923        14.0  42.0                      False   \n",
       "2         27.857143         8.0  35.0                      False   \n",
       "3         30.000000         3.0  45.0                      False   \n",
       "4         30.000000         2.0  36.0                      False   \n",
       "\n",
       "   loan_approval_time  loan_firstPayment_time  \n",
       "0            1.018611                    31.0  \n",
       "1            1.001944                    29.0  \n",
       "2            1.001944                    32.0  \n",
       "3            1.001667                    39.0  \n",
       "4            1.018889                    13.0  "
      ]
     },
     "execution_count": 17,
     "metadata": {},
     "output_type": "execute_result"
    }
   ],
   "source": [
    "original_test_data = pd.read_csv('Datasets/final_test_data_temp.csv')\n",
    "original_test_data.head()"
   ]
  },
  {
   "cell_type": "code",
   "execution_count": 18,
   "metadata": {},
   "outputs": [
    {
     "name": "stdout",
     "output_type": "stream",
     "text": [
      "(384, 9) (384, 1) (384, 8)\n"
     ]
    }
   ],
   "source": [
    "print(original_test_data.shape, predictions_df.shape, test.shape)"
   ]
  },
  {
   "cell_type": "code",
   "execution_count": 19,
   "metadata": {},
   "outputs": [],
   "source": [
    "customerid = original_test_data[['customerid']]"
   ]
  },
  {
   "cell_type": "code",
   "execution_count": 20,
   "metadata": {},
   "outputs": [
    {
     "data": {
      "text/html": [
       "<div>\n",
       "<style scoped>\n",
       "    .dataframe tbody tr th:only-of-type {\n",
       "        vertical-align: middle;\n",
       "    }\n",
       "\n",
       "    .dataframe tbody tr th {\n",
       "        vertical-align: top;\n",
       "    }\n",
       "\n",
       "    .dataframe thead th {\n",
       "        text-align: right;\n",
       "    }\n",
       "</style>\n",
       "<table border=\"1\" class=\"dataframe\">\n",
       "  <thead>\n",
       "    <tr style=\"text-align: right;\">\n",
       "      <th></th>\n",
       "      <th>customerid</th>\n",
       "    </tr>\n",
       "  </thead>\n",
       "  <tbody>\n",
       "    <tr>\n",
       "      <th>0</th>\n",
       "      <td>8a858f305c8dd672015c93b1db645db4</td>\n",
       "    </tr>\n",
       "    <tr>\n",
       "      <th>1</th>\n",
       "      <td>8a858fde56eb02280156eb6dafc128ac</td>\n",
       "    </tr>\n",
       "    <tr>\n",
       "      <th>2</th>\n",
       "      <td>8a858e695775665c015779a1a5cc1192</td>\n",
       "    </tr>\n",
       "    <tr>\n",
       "      <th>3</th>\n",
       "      <td>8a858fcf5b39c3ba015b3d9f215c3922</td>\n",
       "    </tr>\n",
       "    <tr>\n",
       "      <th>4</th>\n",
       "      <td>8a858edc5ceea2e6015ceea77c5c0300</td>\n",
       "    </tr>\n",
       "  </tbody>\n",
       "</table>\n",
       "</div>"
      ],
      "text/plain": [
       "                         customerid\n",
       "0  8a858f305c8dd672015c93b1db645db4\n",
       "1  8a858fde56eb02280156eb6dafc128ac\n",
       "2  8a858e695775665c015779a1a5cc1192\n",
       "3  8a858fcf5b39c3ba015b3d9f215c3922\n",
       "4  8a858edc5ceea2e6015ceea77c5c0300"
      ]
     },
     "execution_count": 20,
     "metadata": {},
     "output_type": "execute_result"
    }
   ],
   "source": [
    "customerid.head()"
   ]
  },
  {
   "cell_type": "code",
   "execution_count": 21,
   "metadata": {},
   "outputs": [],
   "source": [
    "# merge the test and results data frames\n",
    "submission_file = pd.concat([ customerid,predictions_df], axis=1)\n",
    "submission_file.to_csv('Datasets/submission.csv',index=False)"
   ]
  },
  {
   "cell_type": "code",
   "execution_count": 22,
   "metadata": {},
   "outputs": [
    {
     "data": {
      "text/html": [
       "<div>\n",
       "<style scoped>\n",
       "    .dataframe tbody tr th:only-of-type {\n",
       "        vertical-align: middle;\n",
       "    }\n",
       "\n",
       "    .dataframe tbody tr th {\n",
       "        vertical-align: top;\n",
       "    }\n",
       "\n",
       "    .dataframe thead th {\n",
       "        text-align: right;\n",
       "    }\n",
       "</style>\n",
       "<table border=\"1\" class=\"dataframe\">\n",
       "  <thead>\n",
       "    <tr style=\"text-align: right;\">\n",
       "      <th></th>\n",
       "      <th>customerid</th>\n",
       "      <th>Good_Bad_flag</th>\n",
       "      <th>good_bad_flag</th>\n",
       "    </tr>\n",
       "  </thead>\n",
       "  <tbody>\n",
       "    <tr>\n",
       "      <th>0</th>\n",
       "      <td>8a28afc7474813a40147639ec637156b</td>\n",
       "      <td>1.0</td>\n",
       "      <td>NaN</td>\n",
       "    </tr>\n",
       "    <tr>\n",
       "      <th>1</th>\n",
       "      <td>8a3735d5518aba7301518ac34413010d</td>\n",
       "      <td>1.0</td>\n",
       "      <td>NaN</td>\n",
       "    </tr>\n",
       "    <tr>\n",
       "      <th>2</th>\n",
       "      <td>8a76e7d443e6e97c0143ed099d102b1d</td>\n",
       "      <td>1.0</td>\n",
       "      <td>NaN</td>\n",
       "    </tr>\n",
       "    <tr>\n",
       "      <th>3</th>\n",
       "      <td>8a818823525dceef01525deda2480384</td>\n",
       "      <td>1.0</td>\n",
       "      <td>NaN</td>\n",
       "    </tr>\n",
       "    <tr>\n",
       "      <th>4</th>\n",
       "      <td>8a818926522ea5ef01523aff15c37482</td>\n",
       "      <td>1.0</td>\n",
       "      <td>NaN</td>\n",
       "    </tr>\n",
       "  </tbody>\n",
       "</table>\n",
       "</div>"
      ],
      "text/plain": [
       "                         customerid  Good_Bad_flag  good_bad_flag\n",
       "0  8a28afc7474813a40147639ec637156b            1.0            NaN\n",
       "1  8a3735d5518aba7301518ac34413010d            1.0            NaN\n",
       "2  8a76e7d443e6e97c0143ed099d102b1d            1.0            NaN\n",
       "3  8a818823525dceef01525deda2480384            1.0            NaN\n",
       "4  8a818926522ea5ef01523aff15c37482            1.0            NaN"
      ]
     },
     "execution_count": 22,
     "metadata": {},
     "output_type": "execute_result"
    }
   ],
   "source": [
    "import pandas as pd\n",
    "sample_submission =pd.read_csv('Datasets/SampleSubmission.csv')\n",
    "submission_file=pd.read_csv('Datasets/submission.csv')\n",
    "test_submission=pd.concat([sample_submission,submission_file],axis=0)\n",
    "test_submission.head()\n"
   ]
  },
  {
   "cell_type": "code",
   "execution_count": 23,
   "metadata": {},
   "outputs": [],
   "source": [
    "final_test =test_submission.drop('Good_Bad_flag',axis=1)\n"
   ]
  },
  {
   "cell_type": "code",
   "execution_count": 24,
   "metadata": {},
   "outputs": [],
   "source": [
    "final_test.to_csv('Datasets/final_submission.csv',index=False)"
   ]
  },
  {
   "cell_type": "code",
   "execution_count": 25,
   "metadata": {},
   "outputs": [
    {
     "data": {
      "text/plain": [
       "1.0"
      ]
     },
     "execution_count": 25,
     "metadata": {},
     "output_type": "execute_result"
    }
   ],
   "source": [
    "# Imputing the NaN values with the modes\n",
    "mode = final_test['good_bad_flag'].mode()[0]\n",
    "mode"
   ]
  },
  {
   "cell_type": "code",
   "execution_count": 26,
   "metadata": {},
   "outputs": [],
   "source": [
    "final_test['good_bad_flag'].fillna(mode, inplace=True)"
   ]
  },
  {
   "cell_type": "code",
   "execution_count": 27,
   "metadata": {},
   "outputs": [],
   "source": [
    "final_test.to_csv('Datasets/final_submission_version_2.csv',index=False)"
   ]
  }
 ],
 "metadata": {
  "kernelspec": {
   "display_name": "Python 3",
   "language": "python",
   "name": "python3"
  },
  "language_info": {
   "codemirror_mode": {
    "name": "ipython",
    "version": 3
   },
   "file_extension": ".py",
   "mimetype": "text/x-python",
   "name": "python",
   "nbconvert_exporter": "python",
   "pygments_lexer": "ipython3",
   "version": "3.11.3"
  }
 },
 "nbformat": 4,
 "nbformat_minor": 2
}
